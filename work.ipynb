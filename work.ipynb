{
  "cells": [
    {
      "cell_type": "markdown",
      "metadata": {
        "id": "J3taKAQM5iHr"
      },
      "source": [
        "# Setup\n",
        "\n",
        "Clone the repository."
      ]
    },
    {
      "cell_type": "code",
      "execution_count": null,
      "metadata": {
        "id": "caiDtQokcdlu"
      },
      "outputs": [],
      "source": [
        "!git clone https://github.com/georgao35/GANSketching_ANN.git GANSketching/"
      ]
    },
    {
      "cell_type": "markdown",
      "metadata": {},
      "source": [
        "Install requirements."
      ]
    },
    {
      "cell_type": "code",
      "execution_count": null,
      "metadata": {},
      "outputs": [],
      "source": [
        "!pip install -r GANSketching/requirements.txt"
      ]
    },
    {
      "cell_type": "markdown",
      "metadata": {},
      "source": [
        "Download pretrained weights."
      ]
    },
    {
      "cell_type": "code",
      "execution_count": null,
      "metadata": {},
      "outputs": [],
      "source": [
        "!bash weights/download_weights.sh"
      ]
    },
    {
      "cell_type": "markdown",
      "metadata": {
        "id": "9qJoif0C5gJj"
      },
      "source": [
        "# Example Commands"
      ]
    },
    {
      "cell_type": "markdown",
      "metadata": {
        "id": "Yq1vngV05XYE"
      },
      "source": [
        "## Generate samples from a customized model"
      ]
    },
    {
      "cell_type": "markdown",
      "metadata": {
        "id": "kfCPe7_K5aCw"
      },
      "source": [
        "### Standing Cat"
      ]
    },
    {
      "cell_type": "code",
      "execution_count": null,
      "metadata": {
        "colab": {
          "base_uri": "https://localhost:8080/"
        },
        "id": "s_iCzWBBcnQt",
        "outputId": "2ec3dd14-1578-4661-e234-ca369037d1ef"
      },
      "outputs": [],
      "source": [
        "!cd GANSketching/ && python generate.py --ckpt weights/photosketch_standing_cat_noaug.pth --save_dir output/samples_standing_cat"
      ]
    },
    {
      "cell_type": "markdown",
      "metadata": {
        "id": "OXj_TlVK5b3j"
      },
      "source": [
        "### Teaser Cat"
      ]
    },
    {
      "cell_type": "code",
      "execution_count": null,
      "metadata": {
        "colab": {
          "base_uri": "https://localhost:8080/"
        },
        "id": "dy2qhdGl17Jz",
        "outputId": "b553a2a2-1372-48b3-8d1e-d5762d21f94b"
      },
      "outputs": [],
      "source": [
        "!cd GANSketching/ && python generate.py --ckpt weights/by_author_cat_aug.pth --save_dir output/samples_teaser_cat"
      ]
    },
    {
      "cell_type": "markdown",
      "metadata": {
        "id": "e_SVsGvV5TM3"
      },
      "source": [
        "## Latent space edits by GANSpace"
      ]
    },
    {
      "cell_type": "markdown",
      "metadata": {
        "id": "VKYmGzLX5Ro7"
      },
      "source": [
        "### add fur to the standing cats"
      ]
    },
    {
      "cell_type": "code",
      "execution_count": null,
      "metadata": {
        "id": "1ViONcvQ2GQD"
      },
      "outputs": [],
      "source": [
        "!cd GANSketching/ && python ganspace.py --obj cat --comp_id 27 --scalar 50 --layers 2,4 --ckpt weights/photosketch_standing_cat_noaug.pth --save_dir output/ganspace_fur_standing_cat"
      ]
    },
    {
      "cell_type": "markdown",
      "metadata": {
        "id": "qOyCkwjO5PcG"
      },
      "source": [
        "###  close the eyes of the standing cats"
      ]
    },
    {
      "cell_type": "code",
      "execution_count": null,
      "metadata": {
        "id": "1tlR2kS82LoR"
      },
      "outputs": [],
      "source": [
        "!cd GANSketching/ && python ganspace.py --obj cat --comp_id 45 --scalar 60 --layers 5,7 --ckpt weights/photosketch_standing_cat_noaug.pth --save_dir output/ganspace_eye_standing_cat"
      ]
    },
    {
      "cell_type": "markdown",
      "metadata": {},
      "source": [
        "## Model Training\n",
        "\n",
        "Training and evaluating on model trained on PhotoSketch inputs requires running [the Precision and Recall metric](https://github.com/kynkaat/improved-precision-and-recall-metric). The following command pulls the submodule of the forked Precision and Recall [repo](https://github.com/PeterWang512/precision_recall)."
      ]
    },
    {
      "cell_type": "code",
      "execution_count": null,
      "metadata": {},
      "outputs": [],
      "source": [
        "!git submodule update --init --recursive"
      ]
    },
    {
      "cell_type": "markdown",
      "metadata": {},
      "source": [
        "### Download Datasets and Pre-trained Models\n",
        "\n",
        "The following scripts downloads our sketch data, our evaluation set, [LSUN](https://dl.yf.io/lsun), and pre-trained models from [StyleGAN2](https://github.com/NVlabs/stylegan2) and [PhotoSketch](https://github.com/mtli/PhotoSketch)."
      ]
    },
    {
      "cell_type": "code",
      "execution_count": null,
      "metadata": {},
      "outputs": [],
      "source": [
        "%%bash\n",
        "cd GANSketching/\n",
        "\n",
        "# Download the sketches\n",
        "bash data/download_sketch_data.sh\n",
        "\n",
        "# Download evaluation set\n",
        "bash data/download_eval_data.sh\n",
        "\n",
        "# Download pretrained models from StyleGAN2 and PhotoSketch\n",
        "bash pretrained/download_pretrained_models.sh\n",
        "\n",
        "# Download LSUN cat, horse, and church dataset\n",
        "bash data/download_lsun.sh"
      ]
    },
    {
      "cell_type": "markdown",
      "metadata": {},
      "source": [
        "To train FFHQ models with image regularization, please download the [FFHQ dataset](https://github.com/NVlabs/ffhq-dataset) using this [link](https://drive.google.com/file/d/1WvlAIvuochQn_L_f9p3OdFdTiSLlnnhv/view?usp=sharing). This is the zip file of 70,000 images at 1024x1024 resolution. Unzip the files, , rename the `images1024x1024` folder to `ffhq` and place it in `./data/image/`.\n",
        "\n",
        "### Training Scripts\n",
        "\n",
        "The example training configurations are specified using the scripts in `scripts` folder. Use the following commands to launch trainings."
      ]
    },
    {
      "cell_type": "markdown",
      "metadata": {},
      "source": [
        "#### Train the \"horse riders\" model"
      ]
    },
    {
      "cell_type": "code",
      "execution_count": null,
      "metadata": {},
      "outputs": [],
      "source": [
        "!cd GANSketching/ && bash scripts/train_photosketch_horse_riders.sh"
      ]
    },
    {
      "cell_type": "markdown",
      "metadata": {},
      "source": [
        "#### Train the cat face model in Figure. 1 of the paper."
      ]
    },
    {
      "cell_type": "code",
      "execution_count": null,
      "metadata": {},
      "outputs": [],
      "source": [
        "!cd GANSketching/ && bash scripts/train_teaser_cat.sh"
      ]
    },
    {
      "cell_type": "markdown",
      "metadata": {},
      "source": [
        "#### Train on a single quickdraw sketch"
      ]
    },
    {
      "cell_type": "code",
      "execution_count": null,
      "metadata": {},
      "outputs": [],
      "source": [
        "!cd GANSketching/ && bash scripts/train_quickdraw_single_horse0.sh"
      ]
    },
    {
      "cell_type": "markdown",
      "metadata": {},
      "source": [
        "#### Train on sketches of faces (1024px)"
      ]
    },
    {
      "cell_type": "code",
      "execution_count": null,
      "metadata": {},
      "outputs": [],
      "source": [
        "!cd GANSketching/ && bash scripts/train_authorsketch_ffhq0.sh"
      ]
    },
    {
      "cell_type": "markdown",
      "metadata": {},
      "source": [
        "The training progress is tracked using `wandb` by default. To disable wandb logging, please add the `--no_wandb` tag to the training script.\n",
        "\n",
        "### Evaluations\n",
        "\n",
        "Please make sure the evaluation set and model weights are downloaded before running the evaluation.\n",
        "\n",
        "Use the following script to evaluate the models, the results will be saved in a csv file specified by the ``--output`` flag. ``--models_list`` should contain a list of tuple of model weight paths and evaluation data. Please see `weights/eval_list` for example."
      ]
    },
    {
      "cell_type": "code",
      "execution_count": null,
      "metadata": {},
      "outputs": [],
      "source": [
        "!cd GANSketching/ && python run_metrics.py --models_list weights/eval_list --output metric_results.csv"
      ]
    }
  ],
  "metadata": {
    "accelerator": "GPU",
    "colab": {
      "authorship_tag": "ABX9TyN3RlS8D9HUCX0pdx4YLNag",
      "include_colab_link": true,
      "name": "Sketch Your Own GAN Examples",
      "provenance": []
    },
    "kernelspec": {
      "display_name": "Python 3",
      "name": "python3"
    },
    "language_info": {
      "name": "python"
    }
  },
  "nbformat": 4,
  "nbformat_minor": 2
}
